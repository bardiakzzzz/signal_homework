{
  "nbformat": 4,
  "nbformat_minor": 0,
  "metadata": {
    "colab": {
      "name": "Untitled12.ipynb",
      "version": "0.3.2",
      "provenance": []
    },
    "kernelspec": {
      "name": "python3",
      "display_name": "Python 3"
    },
    "accelerator": "GPU"
  },
  "cells": [
    {
      "cell_type": "code",
      "metadata": {
        "id": "1Aa0pYluHx96",
        "colab_type": "code",
        "colab": {}
      },
      "source": [
        "import numpy as np\n",
        "import matplotlib.pyplot as plt\n",
        "import math"
      ],
      "execution_count": 0,
      "outputs": []
    },
    {
      "cell_type": "code",
      "metadata": {
        "id": "E9FWQvH7H3nh",
        "colab_type": "code",
        "colab": {
          "base_uri": "https://localhost:8080/",
          "height": 299
        },
        "outputId": "8874dc78-e792-4bc0-91c5-ed0761949fcc"
      },
      "source": [
        "xn = []\n",
        "range_cnt = 5000\n",
        "for i in range(10000):\n",
        "    if(i >= 0 and i <=5):\n",
        "      xn.append(i)\n",
        "    elif i > 5 and i <= 10 :\n",
        "      xn.append(10-i)\n",
        "    else : xn.append(0)\n",
        "    \n",
        "yn = np.fft.fft(xn)\n",
        "\n",
        "teta = np.arctan(np.imag(yn), np.real(yn))*180/np.pi\n",
        "r = np.sqrt(np.real(yn)**2+np.imag(yn)**2)\n",
        "\n",
        "rnge = np.arange(10000)\n",
        "\n",
        "\n",
        "plt.subplot(3,1,1)\n",
        "plt.title(\"Original\")\n",
        "plt.stem(rnge, xn)\n",
        "\n",
        "plt.subplot(3,1,2)\n",
        "plt.title(\"r\")\n",
        "plt.stem(rnge, r)\n",
        "\n",
        "plt.subplot(3,1,3)\n",
        "plt.title(\"teta\")\n",
        "plt.stem(rnge, teta)\n",
        "\n",
        "\n"
      ],
      "execution_count": 2,
      "outputs": [
        {
          "output_type": "execute_result",
          "data": {
            "text/plain": [
              "<StemContainer object of 3 artists>"
            ]
          },
          "metadata": {
            "tags": []
          },
          "execution_count": 2
        },
        {
          "output_type": "display_data",
          "data": {
            "image/png": "[encoded data removed]",
            "text/plain": [
              "<Figure size 432x288 with 3 Axes>"
            ]
          },
          "metadata": {
            "tags": []
          }
        }
      ]
    }
  ]
}